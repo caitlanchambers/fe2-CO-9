{
 "cells": [
  {
   "cell_type": "code",
   "execution_count": 1,
   "metadata": {},
   "outputs": [],
   "source": [
    "import numpy as np\n",
    "import pandas as pd\n",
    "import matplotlib.pyplot as plt"
   ]
  },
  {
   "cell_type": "code",
   "execution_count": 2,
   "metadata": {},
   "outputs": [],
   "source": [
    "# define an array of temeprature points from 4 K to 298 K in increments of 1\n",
    "temperature = np.linspace(4,298, 148, int)"
   ]
  },
  {
   "cell_type": "code",
   "execution_count": 6,
   "metadata": {},
   "outputs": [
    {
     "name": "stdout",
     "output_type": "stream",
     "text": [
      "[  4.   6.   8.  10.  12.  14.  16.  18.  20.  22.  24.  26.  28.  30.\n",
      "  32.  34.  36.  38.  40.  42.  44.  46.  48.  50.  52.  54.  56.  58.\n",
      "  60.  62.  64.  66.  68.  70.  72.  74.  76.  78.  80.  82.  84.  86.\n",
      "  88.  90.  92.  94.  96.  98. 100. 102. 104. 106. 108. 110. 112. 114.\n",
      " 116. 118. 120. 122. 124. 126. 128. 130. 132. 134. 136. 138. 140. 142.\n",
      " 144. 146. 148. 150. 152. 154. 156. 158. 160. 162. 164. 166. 168. 170.\n",
      " 172. 174. 176. 178. 180. 182. 184. 186. 188. 190. 192. 194. 196. 198.\n",
      " 200. 202. 204. 206. 208. 210. 212. 214. 216. 218. 220. 222. 224. 226.\n",
      " 228. 230. 232. 234. 236. 238. 240. 242. 244. 246. 248. 250. 252. 254.\n",
      " 256. 258. 260. 262. 264. 266. 268. 270. 272. 274. 276. 278. 280. 282.\n",
      " 284. 286. 288. 290. 292. 294. 296. 298.]\n"
     ]
    }
   ],
   "source": [
    "# prints temperature points for interpolation function\n",
    "print(temperature)"
   ]
  },
  {
   "cell_type": "code",
   "execution_count": 3,
   "metadata": {},
   "outputs": [],
   "source": [
    "# actual values inputted into lists\n",
    "actual_bond_length = [2.5043, 2.5036, 2.5013, 2.4978, 2.5027, 2.503, 2.519]\n",
    "actual_temperature = [4, 38, 79, 121, 165, 202.5, 298]\n",
    "actual_error_length = [0.0026, 0.0026, 0.0028, 0.0029, 0.0032, 0.004, 0.004]"
   ]
  },
  {
   "cell_type": "code",
   "execution_count": 4,
   "metadata": {},
   "outputs": [],
   "source": [
    "# interpolation using actual results and errors on defined grid of temperature values\n",
    "params = [actual_bond_length, actual_error_length]\n",
    "bond_length = np.interp(temperature, actual_temperature, actual_bond_length)\n",
    "error_length = np.interp(temperature, actual_temperature, actual_error_length)\n",
    "upper_err = bond_length + error_length\n",
    "lower_err = bond_length - error_length"
   ]
  },
  {
   "cell_type": "code",
   "execution_count": 7,
   "metadata": {},
   "outputs": [
    {
     "name": "stdout",
     "output_type": "stream",
     "text": [
      "[2.5043     2.50425882 2.50421765 2.50417647 2.50413529 2.50409412\n",
      " 2.50405294 2.50401176 2.50397059 2.50392941 2.50388824 2.50384706\n",
      " 2.50380588 2.50376471 2.50372353 2.50368235 2.50364118 2.5036\n",
      " 2.5034878  2.50337561 2.50326341 2.50315122 2.50303902 2.50292683\n",
      " 2.50281463 2.50270244 2.50259024 2.50247805 2.50236585 2.50225366\n",
      " 2.50214146 2.50202927 2.50191707 2.50180488 2.50169268 2.50158049\n",
      " 2.50146829 2.5013561  2.50121667 2.50105    2.50088333 2.50071667\n",
      " 2.50055    2.50038333 2.50021667 2.50005    2.49988333 2.49971667\n",
      " 2.49955    2.49938333 2.49921667 2.49905    2.49888333 2.49871667\n",
      " 2.49855    2.49838333 2.49821667 2.49805    2.49788333 2.49791136\n",
      " 2.49813409 2.49835682 2.49857955 2.49880227 2.499025   2.49924773\n",
      " 2.49947045 2.49969318 2.49991591 2.50013864 2.50036136 2.50058409\n",
      " 2.50080682 2.50102955 2.50125227 2.501475   2.50169773 2.50192045\n",
      " 2.50214318 2.50236591 2.50258864 2.502708   2.502724   2.50274\n",
      " 2.502756   2.502772   2.502788   2.502804   2.50282    2.502836\n",
      " 2.502852   2.502868   2.502884   2.5029     2.502916   2.502932\n",
      " 2.502948   2.502964   2.50298    2.502996   2.50325131 2.50358639\n",
      " 2.50392147 2.50425654 2.50459162 2.5049267  2.50526178 2.50559686\n",
      " 2.50593194 2.50626702 2.50660209 2.50693717 2.50727225 2.50760733\n",
      " 2.50794241 2.50827749 2.50861257 2.50894764 2.50928272 2.5096178\n",
      " 2.50995288 2.51028796 2.51062304 2.51095812 2.51129319 2.51162827\n",
      " 2.51196335 2.51229843 2.51263351 2.51296859 2.51330366 2.51363874\n",
      " 2.51397382 2.5143089  2.51464398 2.51497906 2.51531414 2.51564921\n",
      " 2.51598429 2.51631937 2.51665445 2.51698953 2.51732461 2.51765969\n",
      " 2.51799476 2.51832984 2.51866492 2.519     ]\n"
     ]
    }
   ],
   "source": [
    "# prints the resuling bond lengths \n",
    "print(bond_lengths)"
   ]
  },
  {
   "cell_type": "code",
   "execution_count": null,
   "metadata": {},
   "outputs": [],
   "source": []
  }
 ],
 "metadata": {
  "kernelspec": {
   "display_name": "kate_python",
   "language": "python",
   "name": "python3"
  },
  "language_info": {
   "codemirror_mode": {
    "name": "ipython",
    "version": 3
   },
   "file_extension": ".py",
   "mimetype": "text/x-python",
   "name": "python",
   "nbconvert_exporter": "python",
   "pygments_lexer": "ipython3",
   "version": "3.12.7"
  }
 },
 "nbformat": 4,
 "nbformat_minor": 2
}
